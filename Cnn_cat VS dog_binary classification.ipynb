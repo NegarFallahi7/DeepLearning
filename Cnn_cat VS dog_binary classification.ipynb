{
 "cells": [
  {
   "cell_type": "markdown",
   "metadata": {},
   "source": [
    "Data collection\n",
    "The cat vs. dog dataset is used for this example. This dataset was made publicly available by Kaggle.com in late 2013 computer vision challenge.\n",
    "Before 2013, the use of convolutional networks was not very common. The dataset can be downloaded at the following address.\n",
    "https://www.kaggle.com/c/dogs-vs-cats/data"
   ]
  },
  {
   "cell_type": "markdown",
   "metadata": {},
   "source": [
    "This original dataset contains 25,000 images of dogs and cats (12,500 images of each class) and is 543 MB large (compressed). After downloading and decompressing it, we create a new dataset containing three subsets: a training set with 1000 samples of each class, a validation set with 500 samples of each class, and finally a test set with 500 samples of Every class."
   ]
  },
  {
   "cell_type": "markdown",
   "metadata": {},
   "source": [
    "Unsurprisingly, the cats vs. dogs Kaggle competition in 2013 was won by entrants who used convnets. The best entries could achieve up to \n",
    "95% accuracy. In our own example, we will get fairly close to this accuracy (in the next section), even though we will be training our \n",
    "models on less than 10% of the data that was available to the competitors.\n",
    "This original dataset contains 25,000 images of dogs and cats (12,500 from each class) and is 543MB large (compressed). After downloading \n",
    "and uncompressing it, we will create a new dataset containing three subsets: a training set with 1000 samples of each class, a validation \n",
    "set with 500 samples of each class, and finally a test set with 500 samples of each class.\n",
    "\n",
    "Here are a few lines of code to do this:"
   ]
  },
  {
   "cell_type": "code",
   "execution_count": 13,
   "metadata": {},
   "outputs": [],
   "source": [
    "from tensorflow import keras"
   ]
  },
  {
   "cell_type": "code",
   "execution_count": 2,
   "metadata": {},
   "outputs": [],
   "source": [
    "import os, shutil"
   ]
  },
  {
   "cell_type": "code",
   "execution_count": 6,
   "metadata": {},
   "outputs": [],
   "source": [
    "original_dataset_dir = 'D:/dataset/catDog/train'\n",
    "\n",
    "base_dir = 'D:/dataset/catDog/catVsdog'\n",
    "os.mkdir(base_dir)\n",
    "\n",
    "train_dir = os.path.join(base_dir, 'train')\n",
    "os.mkdir(train_dir)\n",
    "validation_dir = os.path.join(base_dir, 'validation')\n",
    "os.mkdir(validation_dir)\n",
    "test_dir = os.path.join(base_dir, 'test')\n",
    "os.mkdir(test_dir)\n",
    "\n",
    "train_cats_dir = os.path.join(train_dir, 'cats')\n",
    "os.mkdir(train_cats_dir)\n",
    "\n",
    "\n",
    "train_dogs_dir = os.path.join(train_dir, 'dogs')\n",
    "os.mkdir(train_dogs_dir)\n",
    "\n",
    "\n",
    "validation_cats_dir = os.path.join(validation_dir, 'cats')\n",
    "os.mkdir(validation_cats_dir)\n",
    "\n",
    "\n",
    "validation_dogs_dir = os.path.join(validation_dir, 'dogs')\n",
    "os.mkdir(validation_dogs_dir)\n",
    "\n",
    "test_cats_dir = os.path.join(test_dir, 'cats')\n",
    "os.mkdir(test_cats_dir)\n",
    "\n",
    "\n",
    "test_dogs_dir = os.path.join(test_dir, 'dogs')\n",
    "os.mkdir(test_dogs_dir)\n",
    "\n",
    "\n",
    "fnames = ['cat.{}.jpg'.format(i) for i in range(1000)]\n",
    "for fname in fnames:\n",
    "    src = os.path.join(original_dataset_dir, fname)\n",
    "    dst = os.path.join(train_cats_dir, fname)\n",
    "    shutil.copyfile(src, dst)\n",
    "\n",
    "\n",
    "fnames = ['cat.{}.jpg'.format(i) for i in range(1000, 1500)]\n",
    "for fname in fnames:\n",
    "    src = os.path.join(original_dataset_dir, fname)\n",
    "    dst = os.path.join(validation_cats_dir, fname)\n",
    "    shutil.copyfile(src, dst)\n",
    "\n",
    "fnames = ['cat.{}.jpg'.format(i) for i in range(1500, 2000)]\n",
    "for fname in fnames:\n",
    "    src = os.path.join(original_dataset_dir, fname)\n",
    "    dst = os.path.join(test_cats_dir, fname)\n",
    "    shutil.copyfile(src, dst)\n",
    "\n",
    "fnames = ['dog.{}.jpg'.format(i) for i in range(1000)]\n",
    "for fname in fnames:\n",
    "    src = os.path.join(original_dataset_dir, fname)\n",
    "    dst = os.path.join(train_dogs_dir, fname)\n",
    "    shutil.copyfile(src, dst)\n",
    "    \n",
    "\n",
    "fnames = ['dog.{}.jpg'.format(i) for i in range(1000, 1500)]\n",
    "for fname in fnames:\n",
    "    src = os.path.join(original_dataset_dir, fname)\n",
    "    dst = os.path.join(validation_dogs_dir, fname)\n",
    "    shutil.copyfile(src, dst)\n",
    "\n",
    "fnames = ['dog.{}.jpg'.format(i) for i in range(1500, 2000)]\n",
    "for fname in fnames:\n",
    "    src = os.path.join(original_dataset_dir, fname)\n",
    "    dst = os.path.join(test_dogs_dir, fname)\n",
    "    shutil.copyfile(src, dst)"
   ]
  },
  {
   "cell_type": "markdown",
   "metadata": {},
   "source": [
    "To check the correctness of the work, we check the number of training/test/development images"
   ]
  },
  {
   "cell_type": "code",
   "execution_count": 14,
   "metadata": {},
   "outputs": [
    {
     "name": "stdout",
     "output_type": "stream",
     "text": [
      "total training cat images: 1000\n",
      "total training dog images: 1000\n",
      "total validation cat images: 500\n",
      "total validation dog images: 500\n",
      "total test cat images: 500\n",
      "total test dog images: 500\n"
     ]
    }
   ],
   "source": [
    "print('total training cat images:', len(os.listdir(train_cats_dir)))\n",
    "print('total training dog images:', len(os.listdir(train_dogs_dir)))\n",
    "print('total validation cat images:', len(os.listdir(validation_cats_dir)))\n",
    "print('total validation dog images:', len(os.listdir(validation_dogs_dir)))\n",
    "print('total test cat images:', len(os.listdir(test_cats_dir)))\n",
    "print('total test dog images:', len(os.listdir(test_dogs_dir)))"
   ]
  },
  {
   "cell_type": "markdown",
   "metadata": {},
   "source": [
    "### Model Architecture"
   ]
  },
  {
   "cell_type": "code",
   "execution_count": 16,
   "metadata": {},
   "outputs": [],
   "source": [
    "from keras import layers\n",
    "from keras import models\n",
    "\n",
    "model = models.Sequential()\n",
    "model.add(layers.Conv2D(32, (3, 3), activation='relu',\n",
    "                        input_shape=(150, 150, 3)))\n",
    "model.add(layers.MaxPooling2D((2, 2)))\n",
    "model.add(layers.Conv2D(64, (3, 3), activation='relu'))\n",
    "model.add(layers.MaxPooling2D((2, 2)))\n",
    "model.add(layers.Conv2D(128, (3, 3), activation='relu'))\n",
    "model.add(layers.MaxPooling2D((2, 2)))\n",
    "model.add(layers.Conv2D(128, (3, 3), activation='relu'))\n",
    "model.add(layers.MaxPooling2D((2, 2)))\n",
    "model.add(layers.Flatten())\n",
    "model.add(layers.Dense(512, activation='relu'))\n",
    "model.add(layers.Dense(1, activation='sigmoid'))"
   ]
  },
  {
   "cell_type": "code",
   "execution_count": 17,
   "metadata": {},
   "outputs": [
    {
     "name": "stdout",
     "output_type": "stream",
     "text": [
      "Model: \"sequential_1\"\n",
      "_________________________________________________________________\n",
      " Layer (type)                Output Shape              Param #   \n",
      "=================================================================\n",
      " conv2d_4 (Conv2D)           (None, 148, 148, 32)      896       \n",
      "                                                                 \n",
      " max_pooling2d_4 (MaxPooling  (None, 74, 74, 32)       0         \n",
      " 2D)                                                             \n",
      "                                                                 \n",
      " conv2d_5 (Conv2D)           (None, 72, 72, 64)        18496     \n",
      "                                                                 \n",
      " max_pooling2d_5 (MaxPooling  (None, 36, 36, 64)       0         \n",
      " 2D)                                                             \n",
      "                                                                 \n",
      " conv2d_6 (Conv2D)           (None, 34, 34, 128)       73856     \n",
      "                                                                 \n",
      " max_pooling2d_6 (MaxPooling  (None, 17, 17, 128)      0         \n",
      " 2D)                                                             \n",
      "                                                                 \n",
      " conv2d_7 (Conv2D)           (None, 15, 15, 128)       147584    \n",
      "                                                                 \n",
      " max_pooling2d_7 (MaxPooling  (None, 7, 7, 128)        0         \n",
      " 2D)                                                             \n",
      "                                                                 \n",
      " flatten_1 (Flatten)         (None, 6272)              0         \n",
      "                                                                 \n",
      " dense_2 (Dense)             (None, 512)               3211776   \n",
      "                                                                 \n",
      " dense_3 (Dense)             (None, 1)                 513       \n",
      "                                                                 \n",
      "=================================================================\n",
      "Total params: 3,453,121\n",
      "Trainable params: 3,453,121\n",
      "Non-trainable params: 0\n",
      "_________________________________________________________________\n"
     ]
    }
   ],
   "source": [
    "model.summary()"
   ]
  },
  {
   "cell_type": "markdown",
   "metadata": {},
   "source": [
    "### Model Compile"
   ]
  },
  {
   "cell_type": "markdown",
   "metadata": {},
   "source": [
    "from keras import optimizers\n",
    "\n",
    "model.compile(loss='binary_crossentropy',\n",
    "              optimizer='adam',\n",
    "              metrics=['acc'])"
   ]
  },
  {
   "cell_type": "markdown",
   "metadata": {},
   "source": [
    "### Data preprocessing"
   ]
  },
  {
   "cell_type": "code",
   "execution_count": 20,
   "metadata": {},
   "outputs": [
    {
     "name": "stdout",
     "output_type": "stream",
     "text": [
      "Found 2000 images belonging to 2 classes.\n",
      "Found 1000 images belonging to 2 classes.\n"
     ]
    }
   ],
   "source": [
    "from keras.preprocessing.image import ImageDataGenerator\n",
    "\n",
    "# All images will be rescaled by 1./255\n",
    "train_datagen = ImageDataGenerator(rescale=1./255)\n",
    "test_datagen = ImageDataGenerator(rescale=1./255)\n",
    "\n",
    "train_generator = train_datagen.flow_from_directory(\n",
    "        train_dir,\n",
    "        target_size=(150, 150),\n",
    "        batch_size=20,\n",
    "        class_mode='binary')\n",
    "\n",
    "validation_generator = test_datagen.flow_from_directory(\n",
    "        validation_dir,\n",
    "        target_size=(150, 150),\n",
    "        batch_size=20,\n",
    "        class_mode='binary')"
   ]
  },
  {
   "cell_type": "code",
   "execution_count": 21,
   "metadata": {},
   "outputs": [
    {
     "name": "stdout",
     "output_type": "stream",
     "text": [
      "data batch shape: (20, 150, 150, 3)\n",
      "labels batch shape: (20,)\n"
     ]
    }
   ],
   "source": [
    "for data_batch, labels_batch in train_generator:\n",
    "    print('data batch shape:', data_batch.shape)\n",
    "    print('labels batch shape:', labels_batch.shape)\n",
    "    break"
   ]
  },
  {
   "cell_type": "code",
   "execution_count": 22,
   "metadata": {},
   "outputs": [
    {
     "name": "stderr",
     "output_type": "stream",
     "text": [
      "C:\\Users\\Admin\\AppData\\Local\\Programs\\Python\\Python37\\lib\\site-packages\\ipykernel_launcher.py:6: UserWarning: `Model.fit_generator` is deprecated and will be removed in a future version. Please use `Model.fit`, which supports generators.\n",
      "  \n"
     ]
    },
    {
     "name": "stdout",
     "output_type": "stream",
     "text": [
      "Epoch 1/30\n",
      "100/100 [==============================] - 120s 1s/step - loss: 0.6891 - acc: 0.5320 - val_loss: 0.6850 - val_acc: 0.5320\n",
      "Epoch 2/30\n",
      "100/100 [==============================] - 118s 1s/step - loss: 0.6557 - acc: 0.6125 - val_loss: 0.6812 - val_acc: 0.5380\n",
      "Epoch 3/30\n",
      "100/100 [==============================] - 119s 1s/step - loss: 0.5962 - acc: 0.6765 - val_loss: 0.6296 - val_acc: 0.6300\n",
      "Epoch 4/30\n",
      "100/100 [==============================] - 120s 1s/step - loss: 0.5698 - acc: 0.7020 - val_loss: 0.5873 - val_acc: 0.6890\n",
      "Epoch 5/30\n",
      "100/100 [==============================] - 115s 1s/step - loss: 0.5348 - acc: 0.7245 - val_loss: 0.5853 - val_acc: 0.6760\n",
      "Epoch 6/30\n",
      "100/100 [==============================] - 131s 1s/step - loss: 0.5133 - acc: 0.7480 - val_loss: 0.6067 - val_acc: 0.6800\n",
      "Epoch 7/30\n",
      "100/100 [==============================] - 115s 1s/step - loss: 0.4932 - acc: 0.7655 - val_loss: 0.5832 - val_acc: 0.6850\n",
      "Epoch 8/30\n",
      "100/100 [==============================] - 119s 1s/step - loss: 0.4663 - acc: 0.7750 - val_loss: 0.5593 - val_acc: 0.7030\n",
      "Epoch 9/30\n",
      "100/100 [==============================] - 112s 1s/step - loss: 0.4344 - acc: 0.7995 - val_loss: 0.5655 - val_acc: 0.7050\n",
      "Epoch 10/30\n",
      "100/100 [==============================] - 124s 1s/step - loss: 0.4107 - acc: 0.8225 - val_loss: 0.5497 - val_acc: 0.7160\n",
      "Epoch 11/30\n",
      "100/100 [==============================] - 129s 1s/step - loss: 0.3967 - acc: 0.8200 - val_loss: 0.5726 - val_acc: 0.7170\n",
      "Epoch 12/30\n",
      "100/100 [==============================] - 123s 1s/step - loss: 0.3660 - acc: 0.8410 - val_loss: 0.5463 - val_acc: 0.7160\n",
      "Epoch 13/30\n",
      "100/100 [==============================] - 123s 1s/step - loss: 0.3431 - acc: 0.8580 - val_loss: 0.5571 - val_acc: 0.7300\n",
      "Epoch 14/30\n",
      "100/100 [==============================] - 138s 1s/step - loss: 0.3081 - acc: 0.8675 - val_loss: 0.5707 - val_acc: 0.7360\n",
      "Epoch 15/30\n",
      "100/100 [==============================] - 136s 1s/step - loss: 0.3026 - acc: 0.8770 - val_loss: 0.5896 - val_acc: 0.7220\n",
      "Epoch 16/30\n",
      "100/100 [==============================] - 135s 1s/step - loss: 0.2800 - acc: 0.8875 - val_loss: 0.5770 - val_acc: 0.7380\n",
      "Epoch 17/30\n",
      "100/100 [==============================] - 118s 1s/step - loss: 0.2578 - acc: 0.8920 - val_loss: 0.6171 - val_acc: 0.7320\n",
      "Epoch 18/30\n",
      "100/100 [==============================] - 117s 1s/step - loss: 0.2341 - acc: 0.9020 - val_loss: 0.6074 - val_acc: 0.7350\n",
      "Epoch 19/30\n",
      "100/100 [==============================] - 120s 1s/step - loss: 0.2241 - acc: 0.9115 - val_loss: 0.6903 - val_acc: 0.7240\n",
      "Epoch 20/30\n",
      "100/100 [==============================] - 120s 1s/step - loss: 0.2031 - acc: 0.9205 - val_loss: 0.6499 - val_acc: 0.7370\n",
      "Epoch 21/30\n",
      "100/100 [==============================] - 132s 1s/step - loss: 0.1765 - acc: 0.9315 - val_loss: 0.6627 - val_acc: 0.7360\n",
      "Epoch 22/30\n",
      "100/100 [==============================] - 126s 1s/step - loss: 0.1555 - acc: 0.9470 - val_loss: 0.7165 - val_acc: 0.7250\n",
      "Epoch 23/30\n",
      "100/100 [==============================] - 161s 2s/step - loss: 0.1512 - acc: 0.9455 - val_loss: 0.7731 - val_acc: 0.7140\n",
      "Epoch 24/30\n",
      "100/100 [==============================] - 124s 1s/step - loss: 0.1300 - acc: 0.9525 - val_loss: 0.8312 - val_acc: 0.7100\n",
      "Epoch 25/30\n",
      "100/100 [==============================] - 126s 1s/step - loss: 0.1070 - acc: 0.9665 - val_loss: 0.7581 - val_acc: 0.7330\n",
      "Epoch 26/30\n",
      "100/100 [==============================] - 119s 1s/step - loss: 0.1002 - acc: 0.9685 - val_loss: 0.8429 - val_acc: 0.7240\n",
      "Epoch 27/30\n",
      "100/100 [==============================] - 121s 1s/step - loss: 0.0878 - acc: 0.9740 - val_loss: 0.8129 - val_acc: 0.7370\n",
      "Epoch 28/30\n",
      "100/100 [==============================] - 120s 1s/step - loss: 0.0817 - acc: 0.9760 - val_loss: 0.8482 - val_acc: 0.7310\n",
      "Epoch 29/30\n",
      "100/100 [==============================] - 127s 1s/step - loss: 0.0695 - acc: 0.9815 - val_loss: 0.8195 - val_acc: 0.7440\n",
      "Epoch 30/30\n",
      "100/100 [==============================] - 138s 1s/step - loss: 0.0613 - acc: 0.9810 - val_loss: 0.9634 - val_acc: 0.7250\n"
     ]
    }
   ],
   "source": [
    "history = model.fit_generator(\n",
    "      train_generator,\n",
    "      steps_per_epoch=100,\n",
    "      epochs=30,\n",
    "      validation_data=validation_generator,\n",
    "      validation_steps=50)"
   ]
  },
  {
   "cell_type": "markdown",
   "metadata": {},
   "source": [
    "we saw in the output, the accuracy of the model was 72%"
   ]
  },
  {
   "cell_type": "markdown",
   "metadata": {},
   "source": [
    "Let's plot the loss and accuracy of the model over the training and validation data during training:"
   ]
  },
  {
   "cell_type": "code",
   "execution_count": 24,
   "metadata": {},
   "outputs": [
    {
     "data": {
      "image/png": "[encoded data removed]",
      "text/plain": [
       "<Figure size 640x480 with 1 Axes>"
      ]
     },
     "metadata": {},
     "output_type": "display_data"
    },
    {
     "data": {
      "image/png": "[encoded data removed]",
      "text/plain": [
       "<Figure size 640x480 with 1 Axes>"
      ]
     },
     "metadata": {},
     "output_type": "display_data"
    }
   ],
   "source": [
    "import matplotlib.pyplot as plt\n",
    "%matplotlib inline\n",
    "acc = history.history['acc']\n",
    "val_acc = history.history['val_acc']\n",
    "loss = history.history['loss']\n",
    "val_loss = history.history['val_loss']\n",
    "\n",
    "epochs = range(len(acc))\n",
    "\n",
    "plt.plot(epochs, acc, 'bo', label='Training acc')\n",
    "plt.plot(epochs, val_acc, 'b', label='Validation acc')\n",
    "plt.title('Training and validation accuracy')\n",
    "plt.legend()\n",
    "\n",
    "plt.figure()\n",
    "\n",
    "plt.plot(epochs, loss, 'bo', label='Training loss')\n",
    "plt.plot(epochs, val_loss, 'b', label='Validation loss')\n",
    "plt.title('Training and validation loss')\n",
    "plt.legend()\n",
    "\n",
    "plt.show()"
   ]
  },
  {
   "cell_type": "code",
   "execution_count": null,
   "metadata": {},
   "outputs": [],
   "source": []
  }
 ],
 "metadata": {
  "anaconda-cloud": {},
  "kernelspec": {
   "display_name": "Python 3 (ipykernel)",
   "language": "python",
   "name": "python3"
  },
  "language_info": {
   "codemirror_mode": {
    "name": "ipython",
    "version": 3
   },
   "file_extension": ".py",
   "mimetype": "text/x-python",
   "name": "python",
   "nbconvert_exporter": "python",
   "pygments_lexer": "ipython3",
   "version": "3.7.4"
  }
 },
 "nbformat": 4,
 "nbformat_minor": 2
}
